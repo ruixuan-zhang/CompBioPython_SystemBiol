{
 "cells": [
  {
   "cell_type": "markdown",
   "metadata": {},
   "source": [
    "# Computational biology with python"
   ]
  },
  {
   "cell_type": "markdown",
   "metadata": {},
   "source": [
    "## 1 Central Dogma (ODE) model"
   ]
  },
  {
   "cell_type": "code",
   "execution_count": null,
   "metadata": {},
   "outputs": [],
   "source": [
    "import matplotlib\n",
    "import matplotlib.pyplot as plt\n",
    "from scipy.integrate import odeint\n",
    "import numpy as np"
   ]
  },
  {
   "cell_type": "code",
   "execution_count": 34,
   "metadata": {},
   "outputs": [],
   "source": [
    "y0 = [0,0]\n",
    "t =  np.linspace(0, 200, num = 100) # from 0 to 200, sampling 100 times\n",
    "\n",
    "k_1 = 0.5\n",
    "gamma_1 = 0.1\n",
    "k_2 = 1\n",
    "gamma_2 = 0.05 \n",
    "n = 4\n",
    "c = 1\n",
    "\n",
    "params = [k_1, gamma_1, k_2, gamma_2]"
   ]
  },
  {
   "cell_type": "code",
   "execution_count": 35,
   "metadata": {},
   "outputs": [],
   "source": [
    "def sim(variable, t, params):\n",
    "    G1 = variable[0]\n",
    "    G2 = variable[1]\n",
    "\n",
    "    k_1 = params[0]\n",
    "    gamma_1 = params[1]\n",
    "    k_2 = params[2]\n",
    "    gamma_2 = params[3]\n",
    "    \n",
    "    dG1dt = k_1 - gamma_1 * G1\n",
    "    dG2dt = k_2 - gamma_2 * G2\n",
    "\n",
    "    return([dG1dt, dG2dt])"
   ]
  },
  {
   "cell_type": "code",
   "execution_count": 36,
   "metadata": {},
   "outputs": [],
   "source": [
    "y = odeint(sim, y0, t, args=(params,))"
   ]
  },
  {
   "cell_type": "code",
   "execution_count": 37,
   "metadata": {},
   "outputs": [
    {
     "data": {
      "image/png": "[encoded data removed]",
      "text/plain": [
       "<Figure size 432x288 with 1 Axes>"
      ]
     },
     "metadata": {
      "needs_background": "light"
     },
     "output_type": "display_data"
    }
   ],
   "source": [
    "f, ax = plt.subplots(1)\n",
    "\n",
    "line1, = ax.plot(t, y[:,0], color = \"b\", label=\"G1\")\n",
    "line2, = ax.plot(t, y[:,1], color = \"r\", label=\"G2\")\n",
    "\n",
    "ax.set_ylabel(\"Number\")\n",
    "ax.set_xlabel(\"Time\")\n",
    "\n",
    "ax.legend(handles=[line1,line2])\n",
    "plt.show()"
   ]
  },
  {
   "cell_type": "markdown",
   "metadata": {},
   "source": [
    "## 2 Activation Hill Function"
   ]
  },
  {
   "cell_type": "markdown",
   "metadata": {},
   "source": [
    "Gene 1's product G1 inhibits the production of gene 2 (G2)\n",
    "\n",
    "$$\\dfrac{G_1}{dt}=k_1 - \\gamma_1 G_1$$\n",
    "\n",
    "- $G_1$ represents the concentration of G1\n",
    "- $k_1$ : production rate of G1\n",
    "- $\\gamma_2$ : degradation rate of G2\n",
    "\n",
    "$$\\dfrac{G_2}{dt}=[\\dfrac{G_1^n}{c^n+G_1^n}]k_2-\\gamma_2 G_2$$\n",
    "\n",
    "- $k_2$ : maximum production rate of G2\n",
    "- The higher G1 is , the faster the G2 is \n"
   ]
  },
  {
   "cell_type": "code",
   "execution_count": 1,
   "metadata": {},
   "outputs": [],
   "source": [
    "import matplotlib\n",
    "import matplotlib.pyplot as plt\n",
    "from scipy.integrate import odeint\n",
    "import numpy as np"
   ]
  },
  {
   "cell_type": "code",
   "execution_count": 2,
   "metadata": {},
   "outputs": [],
   "source": [
    "y0 = [0,0]\n",
    "t =  np.linspace(0, 200, num = 100) # from 0 to 200, sampling 100 times\n",
    "\n",
    "k_1 = 0.5\n",
    "gamma_1 = 0.1\n",
    "k_2 = 0.5\n",
    "gamma_2 = 0.05 \n",
    "n = 4\n",
    "c = 1\n",
    "\n",
    "params = [k_1, gamma_1, k_2, gamma_2, n ,c ]"
   ]
  },
  {
   "cell_type": "code",
   "execution_count": 3,
   "metadata": {},
   "outputs": [],
   "source": [
    "def sim(variable, t, params):\n",
    "    G1 = variable[0]\n",
    "    G2 = variable[1]\n",
    "\n",
    "    k_1 = params[0]\n",
    "    gamma_1 = params[1]\n",
    "    k_2 = params[2]\n",
    "    gamma_2 = params[3]\n",
    "    n = params[4]\n",
    "    c = params[5]\n",
    "    \n",
    "    dG1dt = k_1 - gamma_1 * G1\n",
    "    dG2dt = (G1**n / (c**n + G1**n)) * k_2 - gamma_2 *G2\n",
    "\n",
    "    return([dG1dt, dG2dt])"
   ]
  },
  {
   "cell_type": "code",
   "execution_count": 4,
   "metadata": {},
   "outputs": [],
   "source": [
    "y = odeint(sim, y0, t, args=(params,))"
   ]
  },
  {
   "cell_type": "code",
   "execution_count": 5,
   "metadata": {},
   "outputs": [
    {
     "data": {
      "image/png": "[encoded data removed]",
      "text/plain": [
       "<Figure size 432x288 with 1 Axes>"
      ]
     },
     "metadata": {
      "needs_background": "light"
     },
     "output_type": "display_data"
    }
   ],
   "source": [
    "f, ax = plt.subplots(1)\n",
    "\n",
    "line1, = ax.plot(t, y[:,0], color = \"b\", label=\"G1\")\n",
    "line2, = ax.plot(t, y[:,1], color = \"r\", label=\"G2\")\n",
    "\n",
    "ax.set_ylabel(\"Number\")\n",
    "ax.set_xlabel(\"Time\")\n",
    "\n",
    "ax.legend(handles=[line1,line2])\n",
    "plt.show()"
   ]
  },
  {
   "cell_type": "markdown",
   "metadata": {},
   "source": [
    "The production of G2 is sped up due the increase of G1 production"
   ]
  },
  {
   "cell_type": "markdown",
   "metadata": {},
   "source": [
    "## 3 Repression Hill Function"
   ]
  },
  {
   "cell_type": "markdown",
   "metadata": {},
   "source": [
    "Gene 1's product G1 inhibits the production of gene 2 (G2)\n",
    "\n",
    "$$\\dfrac{G_1}{dt}=k_1 - \\gamma_1 G_1$$\n",
    "\n",
    "- $G_1$ represents the concentration of G1\n",
    "- $k_1$ : production rate of G1\n",
    "- $\\gamma_2$ : degradation rate of G2\n",
    "\n",
    "$$\\dfrac{G_2}{dt}=[\\dfrac{c^n}{c^n+G_1^n}]k_2-\\gamma_2 G_2$$\n",
    "\n",
    "- $k_2$ : maximum production rate of G2\n",
    "- $\\gamma_2$ : degradation rate of G2\n",
    "- The higher G1 is, the smaller the equation, approach to zero\n"
   ]
  },
  {
   "cell_type": "code",
   "execution_count": 6,
   "metadata": {},
   "outputs": [],
   "source": [
    "import matplotlib\n",
    "import matplotlib.pyplot as plt\n",
    "from scipy.integrate import odeint\n",
    "import numpy as np"
   ]
  },
  {
   "cell_type": "code",
   "execution_count": 7,
   "metadata": {},
   "outputs": [],
   "source": [
    "y0 = [0,0] # y0 is used to save the G1 and G2, initialize to 0 for both products\n",
    "t = np.linspace(0, 200, num = 100) # from 0 to 200, sampling 100 times\n",
    "\n",
    "k_1 = 0.5\n",
    "gamma_1 = 0.1\n",
    "k_2 = 0.5\n",
    "gamma_2 = 0.05 \n",
    "n = 4\n",
    "c = 1\n",
    "\n",
    "params = [k_1, gamma_1, k_2, gamma_2, n ,c ]"
   ]
  },
  {
   "cell_type": "code",
   "execution_count": 8,
   "metadata": {},
   "outputs": [],
   "source": [
    "def sim(variable, t, params):\n",
    "    G1 = variable[0]\n",
    "    G2 = variable[1]\n",
    "\n",
    "    k_1 = params[0]\n",
    "    gamma_1 = params[1]\n",
    "    k_2 = params[2]\n",
    "    gamma_2 = params[3]\n",
    "    n = params[4]\n",
    "    c = params[5]\n",
    "    \n",
    "    dG1dt = k_1 - gamma_1 * G1\n",
    "    dG2dt = (c**n / (c**n + G1**n)) * k_2 - gamma_2 *G2\n",
    "\n",
    "    return([dG1dt, dG2dt])"
   ]
  },
  {
   "cell_type": "code",
   "execution_count": 9,
   "metadata": {},
   "outputs": [],
   "source": [
    "y = odeint(sim,y0,t, args=(params,))"
   ]
  },
  {
   "cell_type": "code",
   "execution_count": 10,
   "metadata": {},
   "outputs": [
    {
     "data": {
      "image/png": "[encoded data removed]",
      "text/plain": [
       "<Figure size 432x288 with 1 Axes>"
      ]
     },
     "metadata": {
      "needs_background": "light"
     },
     "output_type": "display_data"
    }
   ],
   "source": [
    "f, ax = plt.subplots(1)\n",
    "\n",
    "line1, = ax.plot(t, y[:,0], color = \"b\", label=\"G1\")\n",
    "line2, = ax.plot(t, y[:,1], color = \"r\", label=\"G2\")\n",
    "\n",
    "ax.set_ylabel(\"Number\")\n",
    "ax.set_xlabel(\"Time\")\n",
    "\n",
    "ax.legend(handles=[line1,line2])\n",
    "plt.show()"
   ]
  },
  {
   "cell_type": "markdown",
   "metadata": {},
   "source": [
    "As we get more and more G1, G2's production is inhibited "
   ]
  },
  {
   "cell_type": "markdown",
   "metadata": {},
   "source": [
    "## 4 Oscillating Gene Network"
   ]
  },
  {
   "cell_type": "markdown",
   "metadata": {},
   "source": [
    "Gene Model: negative feedback oscillator\n",
    "\n",
    "Context: talked two gene model before in activation / repression hill function\n",
    "\n",
    "Negative feedback loop (cascade) : G1 facilitates the G2, G2 facilitates the G3, G3 inhibits/ represses the G1 production \n",
    "\n",
    "$\\dfrac{dG_1}{dt}$ is the just the repression hill function of G3 on G1 \n",
    "\n",
    "$\\dfrac{dG_2}{dt}$ and $\\dfrac{dG_3}{dt}$ are two activation function of G1 on G2 and G2 on G3, respectively."
   ]
  },
  {
   "cell_type": "code",
   "execution_count": 11,
   "metadata": {},
   "outputs": [],
   "source": [
    "y0 = [0,0,0]\n",
    "t = np.linspace(0, 200, num = 100)\n",
    "\n",
    "k_1 = 0.5\n",
    "gamma_1 = 0.1\n",
    "k_2 = 0.5\n",
    "gamma_2 = 0.1\n",
    "k_3 = 0.5\n",
    "gamma_3 = 0.1\n",
    "n = 9\n",
    "c = 1\n",
    "\n",
    "params = [k_1, gamma_1, k_2, gamma_2, k_3, gamma_3, n, c]"
   ]
  },
  {
   "cell_type": "code",
   "execution_count": 12,
   "metadata": {},
   "outputs": [],
   "source": [
    "def sim(variables, t, params):\n",
    "\n",
    "    G1 = variables[0]\n",
    "    G2 = variables[1]\n",
    "    G3 = variables[2]\n",
    "\n",
    "    k_1 = params[0]\n",
    "    gamma_1 = params[1]\n",
    "    k_2 = params[2]\n",
    "    gamma_2 = params[3]\n",
    "    k_3 = params[4]\n",
    "    gamma_3 = params[5]\n",
    "    n = params[6]\n",
    "    c = params[7]\n",
    "\n",
    "    dG1dt = (c**n / (c**n + G3**n)) * k_1 - gamma_1 * G1\n",
    "    dG2dt = (G1**n / (c**n + G1**n)) * k_2 - gamma_2 * G2\n",
    "    dG3dt = (G2**n / (c**n + G2**n)) * k_3 - gamma_3 * G3\n",
    "\n",
    "    return([dG1dt, dG2dt, dG3dt])  "
   ]
  },
  {
   "cell_type": "code",
   "execution_count": 13,
   "metadata": {},
   "outputs": [],
   "source": [
    "y = odeint(sim, y0, t, args=(params,))"
   ]
  },
  {
   "cell_type": "code",
   "execution_count": 14,
   "metadata": {},
   "outputs": [
    {
     "data": {
      "image/png": "[encoded data removed]",
      "text/plain": [
       "<Figure size 432x288 with 3 Axes>"
      ]
     },
     "metadata": {
      "needs_background": "light"
     },
     "output_type": "display_data"
    }
   ],
   "source": [
    "f, (ax1, ax2, ax3) = plt.subplots(3, sharex=True, sharey=False)\n",
    "# divide the figure into three that shares x and y \n",
    "\n",
    "line1, = ax1.plot(t, y[:,0], color = \"b\", label=\"G1\")\n",
    "line2, = ax2.plot(t, y[:,1], color = \"r\", label=\"G2\")\n",
    "line3, = ax3.plot(t, y[:,2], color = \"g\", label=\"G3\")\n",
    "\n",
    "ax1.set_ylabel(\"Number\")\n",
    "ax1.set_xlabel(\"Time\")\n",
    "\n",
    "ax1.legend(handles=[line1,line2,line3])\n",
    "plt.show()"
   ]
  },
  {
   "cell_type": "markdown",
   "metadata": {},
   "source": [
    "Paper: The good win oscillator by *Brian Goodwin* in 1965"
   ]
  },
  {
   "cell_type": "markdown",
   "metadata": {},
   "source": [
    "## 5 Deterministic vs. Stochastic Models"
   ]
  },
  {
   "cell_type": "markdown",
   "metadata": {},
   "source": [
    "### 5.1 Definitions\n",
    "\n",
    "Deterministic: there is only one trajectory no matter what the initial position is\n",
    "\n",
    "Stochastic: \n",
    "- Definition: Involve randomness based on some random parameters (even the parameters at the beginning is the same, no same trajectory)\n",
    "- When to apply: when you are interested in the random variation model"
   ]
  },
  {
   "cell_type": "markdown",
   "metadata": {},
   "source": [
    "### 5.2 Gillespie Algorithm (SSA method)\n",
    "\n",
    "$t+\\tau$ were drawing from an exponential distribution\n",
    "- `pdf` of an exponential distribution = $\\lambda e^{-\\lambda x}$\n",
    "- mean = $\\dfrac{1}{\\lambda}$\n",
    "- Why do we use exponential distribution to choose the next random but make sense time point ($t+\\tau$)?\n",
    "\n",
    "How to choose $\\lambda$?\n",
    "\n",
    "- $\\lambda = sum(r)$, where $r$ is the rate = $\\gamma * x$\n",
    "\n"
   ]
  },
  {
   "cell_type": "markdown",
   "metadata": {},
   "source": [
    "Use $\\lambda$ to represent the production rate and degradation rate\n",
    "\n",
    "- p(x -> x+1) = $\\dfrac{k}{sum(r)}$\n",
    "- p(x -> x-1) = $\\dfrac{\\gamma * x}{sum(r)}$"
   ]
  },
  {
   "cell_type": "code",
   "execution_count": 15,
   "metadata": {},
   "outputs": [],
   "source": [
    "import numpy as np\n",
    "import matplotlib \n",
    "import matplotlib.pylab as plt\n",
    "import random"
   ]
  },
  {
   "cell_type": "code",
   "execution_count": 21,
   "metadata": {},
   "outputs": [],
   "source": [
    "# these two variables will be appended at every time point, such as [0, 1, 2, 3, ....]\n",
    "X = [0]\n",
    "t = [0]\n",
    "\n",
    "tend = 1000\n",
    "\n",
    "k = 2\n",
    "gamma = 0.1\n",
    "\n",
    "while t[-1] < tend:\n",
    "    \n",
    "    current_X = X[-1]\n",
    "\n",
    "    rates = [k, gamma * current_X]\n",
    "    rate_sum = sum(rates)\n",
    "\n",
    "    tau = np.random.exponential(scale=1/rate_sum)\n",
    "\n",
    "    t.append(t[-1] + tau)\n",
    "\n",
    "    rand = random.uniform(0,1)\n",
    "\n",
    "    if rand * rate_sum > 0 and rand * rate_sum < rates[0]:\n",
    "        X.append(X[-1] + 1)\n",
    "    \n",
    "    elif rand * rate_sum > rates[0] and rand * rate_sum < rates[0] + rates[1]:\n",
    "        X.append(X[-1] - 1)\n"
   ]
  },
  {
   "cell_type": "code",
   "execution_count": 22,
   "metadata": {},
   "outputs": [
    {
     "data": {
      "image/png": "[encoded data removed]",
      "text/plain": [
       "<Figure size 432x288 with 1 Axes>"
      ]
     },
     "metadata": {
      "needs_background": "light"
     },
     "output_type": "display_data"
    }
   ],
   "source": [
    "plt.plot(t,X)\n",
    "plt.xlabel(\"time\")\n",
    "plt.ylabel(\"mRNA quantity\")\n",
    "plt.show()"
   ]
  },
  {
   "cell_type": "markdown",
   "metadata": {},
   "source": [
    "### 5.3 Code for Stochastic Oscillator\n",
    "\n",
    "Just add them like previous Oscillating network"
   ]
  },
  {
   "cell_type": "code",
   "execution_count": 23,
   "metadata": {},
   "outputs": [],
   "source": [
    "import numpy as np\n",
    "import matplotlib \n",
    "import matplotlib.pylab as plt\n",
    "import random"
   ]
  },
  {
   "cell_type": "code",
   "execution_count": 32,
   "metadata": {},
   "outputs": [],
   "source": [
    "# these two variables will be appended at every time point, such as [0, 1, 2, 3, ....]\n",
    "X = [0]\n",
    "Y = [0]\n",
    "Z = [0]\n",
    "t = [0]\n",
    "\n",
    "tend = 1000\n",
    "\n",
    "k_1 = 4\n",
    "k_2 = 2\n",
    "k_3 = 2\n",
    "gamma_1 = 0.1\n",
    "gamma_2 = 0.1\n",
    "gamma_3 = 0.1\n",
    "n = 9\n",
    "c = 1\n",
    "\n",
    "while t[-1] < tend:\n",
    "    \n",
    "    current_X = X[-1]\n",
    "    current_Y = Y[-1]\n",
    "    current_Z = Z[-1]\n",
    "\n",
    "    rates = [(c**n / (c**n + current_Z**n)) * k_1, gamma_1 * current_X, \\\n",
    "        (current_X**n / (c**n + current_X**n)) * k_2, gamma_2 * current_Y , \\\n",
    "        (current_Y**n / (c**n + current_Y**n)) * k_3, gamma_3 * current_Z]\n",
    "    \n",
    "    rate_sum = sum(rates)\n",
    "\n",
    "    tau = np.random.exponential(scale=1/rate_sum)\n",
    "\n",
    "    t.append(t[-1] + tau)\n",
    "\n",
    "    rand = random.uniform(0,1)\n",
    "\n",
    "    if rand * rate_sum < rates[0]:\n",
    "        X.append(X[-1] + 1)\n",
    "        Y.append(Y[-1])\n",
    "        Z.append(Z[-1])\n",
    "\n",
    "    elif rand * rate_sum > rates[0] and rand * rate_sum < sum(rates[:2]):\n",
    "        X.append(X[-1] - 1)\n",
    "        Y.append(Y[-1])\n",
    "        Z.append(Z[-1])\n",
    "\n",
    "    elif rand * rate_sum > sum(rates[:2]) and rand * rate_sum < sum(rates[:3]):\n",
    "        X.append(X[-1])\n",
    "        Y.append(Y[-1] + 1)\n",
    "        Z.append(Z[-1])\n",
    "\n",
    "    elif rand * rate_sum > sum(rates[:3]) and rand * rate_sum < sum(rates[:4]):\n",
    "        X.append(X[-1])\n",
    "        Y.append(Y[-1] - 1)\n",
    "        Z.append(Z[-1])\n",
    "\n",
    "    elif rand * rate_sum > sum(rates[:4]) and rand * rate_sum < sum(rates[:5]):\n",
    "        X.append(X[-1])\n",
    "        Y.append(Y[-1])\n",
    "        Z.append(Z[-1] + 1)\n",
    "\n",
    "    elif rand * rate_sum > sum(rates[:5]) and rand * rate_sum < sum(rates[:6]):\n",
    "        X.append(X[-1])\n",
    "        Y.append(Y[-1])\n",
    "        Z.append(Z[-1] - 1)\n"
   ]
  },
  {
   "cell_type": "code",
   "execution_count": 33,
   "metadata": {},
   "outputs": [
    {
     "data": {
      "image/png": "[encoded data removed]",
      "text/plain": [
       "<Figure size 432x288 with 3 Axes>"
      ]
     },
     "metadata": {
      "needs_background": "light"
     },
     "output_type": "display_data"
    }
   ],
   "source": [
    "f, (ax1, ax2, ax3) = plt.subplots(3, sharex=True, sharey=False)\n",
    "# divide the figure into three that shares x and y \n",
    "\n",
    "line1, = ax1.plot(t, X, color = \"b\", label=\"G1\")\n",
    "line2, = ax2.plot(t, Y, color = \"r\", label=\"G2\")\n",
    "line3, = ax3.plot(t, Z, color = \"g\", label=\"G3\")\n",
    "\n",
    "ax1.set_ylabel(\"mRNA quantity\")\n",
    "ax1.set_xlabel(\"Time\")\n",
    "\n",
    "ax1.legend(handles=[line1,line2,line3])\n",
    "plt.show()"
   ]
  },
  {
   "cell_type": "markdown",
   "metadata": {},
   "source": []
  },
  {
   "cell_type": "markdown",
   "metadata": {},
   "source": []
  }
 ],
 "metadata": {
  "kernelspec": {
   "display_name": "Python 3.9.12 ('base')",
   "language": "python",
   "name": "python3"
  },
  "language_info": {
   "codemirror_mode": {
    "name": "ipython",
    "version": 3
   },
   "file_extension": ".py",
   "mimetype": "text/x-python",
   "name": "python",
   "nbconvert_exporter": "python",
   "pygments_lexer": "ipython3",
   "version": "3.9.12"
  },
  "orig_nbformat": 4,
  "vscode": {
   "interpreter": {
    "hash": "759407d06e4844a66ad26bc08d7d9f5a3ba31012c7e64045afc29c54b1d06448"
   }
  }
 },
 "nbformat": 4,
 "nbformat_minor": 2
}
